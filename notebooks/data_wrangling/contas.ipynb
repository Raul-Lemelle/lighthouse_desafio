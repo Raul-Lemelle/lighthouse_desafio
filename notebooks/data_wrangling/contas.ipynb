{
  "cells": [
    {
      "cell_type": "markdown",
      "metadata": {
        "id": "3fF3ex-y95qe"
      },
      "source": [
        "# Load database"
      ]
    },
    {
      "cell_type": "code",
      "execution_count": 6,
      "metadata": {
        "id": "M9iJFLxX07sX"
      },
      "outputs": [],
      "source": [
        "from datetime import datetime\n",
        "import pandas as pd\n",
        "import numpy as np\n",
        "import matplotlib.pyplot as plt\n",
        "\n",
        "import os\n",
        "from dotenv import load_dotenv"
      ]
    },
    {
      "cell_type": "code",
      "execution_count": 7,
      "metadata": {},
      "outputs": [],
      "source": [
        "# Carregar variáveis de ambiente do arquivo .env\n",
        "load_dotenv()\n",
        "\n",
        "# Obter caminhos do arquivo csv e do diretório de extração das variáveis de ambiente\n",
        "contas_path = os.getenv('CONTAS_CSV')"
      ]
    },
    {
      "cell_type": "code",
      "execution_count": 8,
      "metadata": {
        "colab": {
          "base_uri": "https://localhost:8080/",
          "height": 206
        },
        "id": "uG1pzS0I2Z3z",
        "outputId": "50f88f76-48cc-41ce-e724-8030c944cbcb"
      },
      "outputs": [],
      "source": [
        "# Carregar o CSV em um DataFrame Pandas\n",
        "df_contas = pd.read_csv(contas_path)"
      ]
    },
    {
      "cell_type": "markdown",
      "metadata": {},
      "source": [
        "**Wrangling**"
      ]
    },
    {
      "cell_type": "markdown",
      "metadata": {},
      "source": [
        "Vamos realizar a manipulação dos dados para o dashboard, priorizando a obtenção de uma granularidade consistente e aprimoramento da qualidade da base de dados."
      ]
    },
    {
      "cell_type": "code",
      "execution_count": 9,
      "metadata": {},
      "outputs": [
        {
          "data": {
            "text/html": [
              "<div>\n",
              "<style scoped>\n",
              "    .dataframe tbody tr th:only-of-type {\n",
              "        vertical-align: middle;\n",
              "    }\n",
              "\n",
              "    .dataframe tbody tr th {\n",
              "        vertical-align: top;\n",
              "    }\n",
              "\n",
              "    .dataframe thead th {\n",
              "        text-align: right;\n",
              "    }\n",
              "</style>\n",
              "<table border=\"1\" class=\"dataframe\">\n",
              "  <thead>\n",
              "    <tr style=\"text-align: right;\">\n",
              "      <th></th>\n",
              "      <th>num_conta</th>\n",
              "      <th>cod_cliente</th>\n",
              "      <th>cod_agencia</th>\n",
              "      <th>cod_colaborador</th>\n",
              "      <th>tipo_conta</th>\n",
              "      <th>data_abertura</th>\n",
              "      <th>saldo_total</th>\n",
              "      <th>saldo_disponivel</th>\n",
              "      <th>data_ultimo_lancamento</th>\n",
              "    </tr>\n",
              "  </thead>\n",
              "  <tbody>\n",
              "    <tr>\n",
              "      <th>0</th>\n",
              "      <td>53</td>\n",
              "      <td>53</td>\n",
              "      <td>1</td>\n",
              "      <td>7</td>\n",
              "      <td>PF</td>\n",
              "      <td>2011-05-24 15:30:00 UTC</td>\n",
              "      <td>2984.7615</td>\n",
              "      <td>2814.67</td>\n",
              "      <td>2019-07-02 11:03:46 UTC</td>\n",
              "    </tr>\n",
              "    <tr>\n",
              "      <th>1</th>\n",
              "      <td>190</td>\n",
              "      <td>190</td>\n",
              "      <td>1</td>\n",
              "      <td>7</td>\n",
              "      <td>PF</td>\n",
              "      <td>2014-10-17 14:48:00 UTC</td>\n",
              "      <td>4262.4322</td>\n",
              "      <td>4191.86</td>\n",
              "      <td>2021-03-25 12:00:15 UTC</td>\n",
              "    </tr>\n",
              "    <tr>\n",
              "      <th>2</th>\n",
              "      <td>191</td>\n",
              "      <td>191</td>\n",
              "      <td>1</td>\n",
              "      <td>7</td>\n",
              "      <td>PF</td>\n",
              "      <td>2013-03-23 14:14:00 UTC</td>\n",
              "      <td>3266.5680</td>\n",
              "      <td>3080.71</td>\n",
              "      <td>2016-09-09 23:34:15 UTC</td>\n",
              "    </tr>\n",
              "    <tr>\n",
              "      <th>3</th>\n",
              "      <td>203</td>\n",
              "      <td>203</td>\n",
              "      <td>1</td>\n",
              "      <td>7</td>\n",
              "      <td>PF</td>\n",
              "      <td>2016-08-03 16:13:00 UTC</td>\n",
              "      <td>21241.5424</td>\n",
              "      <td>19461.56</td>\n",
              "      <td>2022-12-28 07:58:24 UTC</td>\n",
              "    </tr>\n",
              "    <tr>\n",
              "      <th>4</th>\n",
              "      <td>254</td>\n",
              "      <td>254</td>\n",
              "      <td>1</td>\n",
              "      <td>7</td>\n",
              "      <td>PF</td>\n",
              "      <td>2012-10-24 13:48:00 UTC</td>\n",
              "      <td>13335.6966</td>\n",
              "      <td>13197.54</td>\n",
              "      <td>2013-12-20 22:20:00 UTC</td>\n",
              "    </tr>\n",
              "  </tbody>\n",
              "</table>\n",
              "</div>"
            ],
            "text/plain": [
              "   num_conta  cod_cliente  cod_agencia  cod_colaborador tipo_conta  \\\n",
              "0         53           53            1                7         PF   \n",
              "1        190          190            1                7         PF   \n",
              "2        191          191            1                7         PF   \n",
              "3        203          203            1                7         PF   \n",
              "4        254          254            1                7         PF   \n",
              "\n",
              "             data_abertura  saldo_total  saldo_disponivel  \\\n",
              "0  2011-05-24 15:30:00 UTC    2984.7615           2814.67   \n",
              "1  2014-10-17 14:48:00 UTC    4262.4322           4191.86   \n",
              "2  2013-03-23 14:14:00 UTC    3266.5680           3080.71   \n",
              "3  2016-08-03 16:13:00 UTC   21241.5424          19461.56   \n",
              "4  2012-10-24 13:48:00 UTC   13335.6966          13197.54   \n",
              "\n",
              "    data_ultimo_lancamento  \n",
              "0  2019-07-02 11:03:46 UTC  \n",
              "1  2021-03-25 12:00:15 UTC  \n",
              "2  2016-09-09 23:34:15 UTC  \n",
              "3  2022-12-28 07:58:24 UTC  \n",
              "4  2013-12-20 22:20:00 UTC  "
            ]
          },
          "execution_count": 9,
          "metadata": {},
          "output_type": "execute_result"
        }
      ],
      "source": [
        "df_contas.head()"
      ]
    },
    {
      "cell_type": "code",
      "execution_count": 10,
      "metadata": {},
      "outputs": [
        {
          "name": "stdout",
          "output_type": "stream",
          "text": [
            "<class 'pandas.core.frame.DataFrame'>\n",
            "RangeIndex: 999 entries, 0 to 998\n",
            "Data columns (total 9 columns):\n",
            " #   Column                  Non-Null Count  Dtype  \n",
            "---  ------                  --------------  -----  \n",
            " 0   num_conta               999 non-null    int64  \n",
            " 1   cod_cliente             999 non-null    int64  \n",
            " 2   cod_agencia             999 non-null    int64  \n",
            " 3   cod_colaborador         999 non-null    int64  \n",
            " 4   tipo_conta              999 non-null    object \n",
            " 5   data_abertura           999 non-null    object \n",
            " 6   saldo_total             999 non-null    float64\n",
            " 7   saldo_disponivel        999 non-null    float64\n",
            " 8   data_ultimo_lancamento  999 non-null    object \n",
            "dtypes: float64(2), int64(4), object(3)\n",
            "memory usage: 70.4+ KB\n"
          ]
        }
      ],
      "source": [
        "df_contas.info()"
      ]
    },
    {
      "cell_type": "markdown",
      "metadata": {},
      "source": [
        "Vamos fazer um type casting da coluna data_abertura, data_ultimo_lancamento para o formato de 'datetime64[ns]'"
      ]
    },
    {
      "cell_type": "markdown",
      "metadata": {},
      "source": [
        "A coluna data_abertura está formatada com o sufixo \"UTC\". Para lidar com isso, usaremos a função pd.to_datetime() do pandas, que oferece mais flexibilidade para o parsing de strings de data."
      ]
    },
    {
      "cell_type": "code",
      "execution_count": 11,
      "metadata": {},
      "outputs": [],
      "source": [
        "# Converter corretamente as strings de data com o sufixo \"UTC\" para objetos datetime do pandas\n",
        "df_contas['data_abertura'] = pd.to_datetime(df_contas['data_abertura'], utc=True)\n",
        "\n",
        "# remover a informação de fuso horário, convertendo as datas para o formato local naive datetime\n",
        "df_contas['data_abertura'] = df_contas['data_abertura'].dt.tz_localize(None)"
      ]
    },
    {
      "cell_type": "code",
      "execution_count": 12,
      "metadata": {},
      "outputs": [],
      "source": [
        "df_contas['data_abertura'] = df_contas['data_abertura'].astype('datetime64[ns]')"
      ]
    },
    {
      "cell_type": "markdown",
      "metadata": {},
      "source": [
        "A coluna data_ultimo_lancamento está formatada com o sufixo \"UTC\". Para lidar com isso, usaremos a função pd.to_datetime() do pandas, que oferece mais flexibilidade para o parsing de strings de data."
      ]
    },
    {
      "cell_type": "code",
      "execution_count": 14,
      "metadata": {},
      "outputs": [],
      "source": [
        "# Converter corretamente as strings de data com o sufixo \"UTC\" para objetos datetime do pandas\n",
        "df_contas['data_ultimo_lancamento'] = pd.to_datetime(df_contas['data_ultimo_lancamento'], errors='coerce', utc=True)\n",
        "\n",
        "# remover a informação de fuso horário, convertendo as datas para o formato local naive datetime\n",
        "df_contas['data_ultimo_lancamento'] = df_contas['data_ultimo_lancamento'].dt.tz_localize(None)"
      ]
    },
    {
      "cell_type": "code",
      "execution_count": 15,
      "metadata": {},
      "outputs": [],
      "source": [
        "df_contas['data_ultimo_lancamento'] = df_contas['data_ultimo_lancamento'].astype('datetime64[ns]')"
      ]
    },
    {
      "cell_type": "markdown",
      "metadata": {},
      "source": [
        "Enriquecimento dos dados com novas colunas.\n",
        "\n",
        "Chaves temporais:"
      ]
    },
    {
      "cell_type": "code",
      "execution_count": 16,
      "metadata": {},
      "outputs": [],
      "source": [
        "df_contas['data_abertura_month'] = df_contas['data_abertura'].apply(lambda date: date.strftime('%Y-%m'))\n",
        "df_contas['data_abertura_year']  = df_contas['data_abertura'].apply(lambda date: date.strftime('%Y'))"
      ]
    },
    {
      "cell_type": "markdown",
      "metadata": {},
      "source": [
        "Com os dados manipulados, procederemos à sua persistência em disco, realizaremos o download e, posteriormente, o carregaremos no Google Data Studio."
      ]
    },
    {
      "cell_type": "code",
      "execution_count": 18,
      "metadata": {},
      "outputs": [],
      "source": [
        "# Obter caminhos do diretório gold das variáveis de ambiente\n",
        "gold_path = os.getenv('GOLD_PATH')"
      ]
    },
    {
      "cell_type": "code",
      "execution_count": 19,
      "metadata": {},
      "outputs": [],
      "source": [
        "df_contas.to_csv(f'{gold_path}/contas.csv', sep=',', index=False)"
      ]
    }
  ],
  "metadata": {
    "colab": {
      "provenance": []
    },
    "kernelspec": {
      "display_name": "Python 3",
      "name": "python3"
    },
    "language_info": {
      "codemirror_mode": {
        "name": "ipython",
        "version": 3
      },
      "file_extension": ".py",
      "mimetype": "text/x-python",
      "name": "python",
      "nbconvert_exporter": "python",
      "pygments_lexer": "ipython3",
      "version": "3.12.4"
    }
  },
  "nbformat": 4,
  "nbformat_minor": 0
}
