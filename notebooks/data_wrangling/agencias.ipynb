{
  "cells": [
    {
      "cell_type": "markdown",
      "metadata": {
        "id": "3fF3ex-y95qe"
      },
      "source": [
        "# Load database"
      ]
    },
    {
      "cell_type": "code",
      "execution_count": 1,
      "metadata": {
        "id": "M9iJFLxX07sX"
      },
      "outputs": [],
      "source": [
        "import pandas as pd\n",
        "import numpy as np\n",
        "import matplotlib.pyplot as plt\n",
        "\n",
        "import os\n",
        "from dotenv import load_dotenv"
      ]
    },
    {
      "cell_type": "code",
      "execution_count": 2,
      "metadata": {},
      "outputs": [],
      "source": [
        "# Carregar variáveis de ambiente do arquivo .env\n",
        "load_dotenv()\n",
        "\n",
        "# Obter caminhos do arquivo csv e do diretório de extração das variáveis de ambiente\n",
        "agencia_path = os.getenv('AGENCIAS_CSV')"
      ]
    },
    {
      "cell_type": "code",
      "execution_count": 3,
      "metadata": {
        "colab": {
          "base_uri": "https://localhost:8080/",
          "height": 206
        },
        "id": "uG1pzS0I2Z3z",
        "outputId": "ff81c381-c56f-4eae-c7fe-50aaff5ae99d"
      },
      "outputs": [],
      "source": [
        "# Carregar o CSV em um DataFrame Pandas\n",
        "df_agencias = pd.read_csv(agencia_path)"
      ]
    },
    {
      "cell_type": "markdown",
      "metadata": {
        "id": "xQU3FAOM5TUp"
      },
      "source": [
        "**Wrangling**"
      ]
    },
    {
      "cell_type": "markdown",
      "metadata": {},
      "source": [
        "Vamos realizar a manipulação dos dados para o dashboard, priorizando a obtenção de uma granularidade consistente e aprimoramento da qualidade da base de dados."
      ]
    },
    {
      "cell_type": "code",
      "execution_count": 4,
      "metadata": {
        "colab": {
          "base_uri": "https://localhost:8080/"
        },
        "id": "mR4sODjp4KhL",
        "outputId": "47e2886b-6038-4634-908e-112d56243d84"
      },
      "outputs": [
        {
          "data": {
            "text/html": [
              "<div>\n",
              "<style scoped>\n",
              "    .dataframe tbody tr th:only-of-type {\n",
              "        vertical-align: middle;\n",
              "    }\n",
              "\n",
              "    .dataframe tbody tr th {\n",
              "        vertical-align: top;\n",
              "    }\n",
              "\n",
              "    .dataframe thead th {\n",
              "        text-align: right;\n",
              "    }\n",
              "</style>\n",
              "<table border=\"1\" class=\"dataframe\">\n",
              "  <thead>\n",
              "    <tr style=\"text-align: right;\">\n",
              "      <th></th>\n",
              "      <th>cod_agencia</th>\n",
              "      <th>nome</th>\n",
              "      <th>endereco</th>\n",
              "      <th>cidade</th>\n",
              "      <th>uf</th>\n",
              "      <th>data_abertura</th>\n",
              "      <th>tipo_agencia</th>\n",
              "    </tr>\n",
              "  </thead>\n",
              "  <tbody>\n",
              "    <tr>\n",
              "      <th>0</th>\n",
              "      <td>7</td>\n",
              "      <td>Agência Digital</td>\n",
              "      <td>Av. Paulista, 1436 - Cerqueira César, São Paul...</td>\n",
              "      <td>São Paulo</td>\n",
              "      <td>SP</td>\n",
              "      <td>2015-08-01</td>\n",
              "      <td>Digital</td>\n",
              "    </tr>\n",
              "    <tr>\n",
              "      <th>1</th>\n",
              "      <td>1</td>\n",
              "      <td>Agência Matriz</td>\n",
              "      <td>Av. Paulista, 1436 - Cerqueira César, São Paul...</td>\n",
              "      <td>São Paulo</td>\n",
              "      <td>SP</td>\n",
              "      <td>2010-01-01</td>\n",
              "      <td>Física</td>\n",
              "    </tr>\n",
              "    <tr>\n",
              "      <th>2</th>\n",
              "      <td>2</td>\n",
              "      <td>Agência Tatuapé</td>\n",
              "      <td>Praça Sílvio Romero, 158 - Tatuapé, São Paulo ...</td>\n",
              "      <td>São Paulo</td>\n",
              "      <td>SP</td>\n",
              "      <td>2010-06-14</td>\n",
              "      <td>Física</td>\n",
              "    </tr>\n",
              "    <tr>\n",
              "      <th>3</th>\n",
              "      <td>3</td>\n",
              "      <td>Agência Campinas</td>\n",
              "      <td>Av. Francisco Glicério, 895 - Vila Lidia, Camp...</td>\n",
              "      <td>Campinas</td>\n",
              "      <td>SP</td>\n",
              "      <td>2012-03-04</td>\n",
              "      <td>Física</td>\n",
              "    </tr>\n",
              "    <tr>\n",
              "      <th>4</th>\n",
              "      <td>4</td>\n",
              "      <td>Agência Osasco</td>\n",
              "      <td>Av. Antônio Carlos Costa, 1000 - Bela Vista, O...</td>\n",
              "      <td>Osasco</td>\n",
              "      <td>SP</td>\n",
              "      <td>2013-11-06</td>\n",
              "      <td>Física</td>\n",
              "    </tr>\n",
              "  </tbody>\n",
              "</table>\n",
              "</div>"
            ],
            "text/plain": [
              "   cod_agencia              nome  \\\n",
              "0            7   Agência Digital   \n",
              "1            1    Agência Matriz   \n",
              "2            2   Agência Tatuapé   \n",
              "3            3  Agência Campinas   \n",
              "4            4    Agência Osasco   \n",
              "\n",
              "                                            endereco     cidade  uf  \\\n",
              "0  Av. Paulista, 1436 - Cerqueira César, São Paul...  São Paulo  SP   \n",
              "1  Av. Paulista, 1436 - Cerqueira César, São Paul...  São Paulo  SP   \n",
              "2  Praça Sílvio Romero, 158 - Tatuapé, São Paulo ...  São Paulo  SP   \n",
              "3  Av. Francisco Glicério, 895 - Vila Lidia, Camp...   Campinas  SP   \n",
              "4  Av. Antônio Carlos Costa, 1000 - Bela Vista, O...     Osasco  SP   \n",
              "\n",
              "  data_abertura tipo_agencia  \n",
              "0    2015-08-01      Digital  \n",
              "1    2010-01-01       Física  \n",
              "2    2010-06-14       Física  \n",
              "3    2012-03-04       Física  \n",
              "4    2013-11-06       Física  "
            ]
          },
          "execution_count": 4,
          "metadata": {},
          "output_type": "execute_result"
        }
      ],
      "source": [
        "df_agencias.head()"
      ]
    },
    {
      "cell_type": "code",
      "execution_count": 6,
      "metadata": {},
      "outputs": [
        {
          "name": "stdout",
          "output_type": "stream",
          "text": [
            "<class 'pandas.core.frame.DataFrame'>\n",
            "RangeIndex: 10 entries, 0 to 9\n",
            "Data columns (total 7 columns):\n",
            " #   Column         Non-Null Count  Dtype \n",
            "---  ------         --------------  ----- \n",
            " 0   cod_agencia    10 non-null     int64 \n",
            " 1   nome           10 non-null     object\n",
            " 2   endereco       10 non-null     object\n",
            " 3   cidade         10 non-null     object\n",
            " 4   uf             10 non-null     object\n",
            " 5   data_abertura  10 non-null     object\n",
            " 6   tipo_agencia   10 non-null     object\n",
            "dtypes: int64(1), object(6)\n",
            "memory usage: 692.0+ bytes\n"
          ]
        }
      ],
      "source": [
        "df_agencias.info()"
      ]
    },
    {
      "cell_type": "markdown",
      "metadata": {},
      "source": [
        "Vamos fazer um type casting da coluna data_abertura para o formato de 'datetime64[ns]'"
      ]
    },
    {
      "cell_type": "code",
      "execution_count": 7,
      "metadata": {},
      "outputs": [],
      "source": [
        "df_agencias['data_abertura'] = df_agencias['data_abertura'].astype('datetime64[ns]')"
      ]
    },
    {
      "cell_type": "markdown",
      "metadata": {},
      "source": [
        "Enriquecimento dos dados com novas colunas.\n",
        "\n",
        "Chaves temporais:"
      ]
    },
    {
      "cell_type": "code",
      "execution_count": 8,
      "metadata": {
        "colab": {
          "base_uri": "https://localhost:8080/",
          "height": 300
        },
        "id": "IynygT124SCM",
        "outputId": "938482ef-b91e-4cc9-e565-8d66f4bc764b"
      },
      "outputs": [],
      "source": [
        "df_agencias['month'] = df_agencias['data_abertura'].apply(lambda date: date.strftime('%Y-%m'))\n",
        "df_agencias['year']  = df_agencias['data_abertura'].apply(lambda date: date.strftime('%Y'))"
      ]
    },
    {
      "cell_type": "markdown",
      "metadata": {},
      "source": [
        "Salvar novo csv"
      ]
    },
    {
      "cell_type": "code",
      "execution_count": null,
      "metadata": {},
      "outputs": [],
      "source": []
    }
  ],
  "metadata": {
    "colab": {
      "provenance": []
    },
    "kernelspec": {
      "display_name": "Python 3",
      "name": "python3"
    },
    "language_info": {
      "codemirror_mode": {
        "name": "ipython",
        "version": 3
      },
      "file_extension": ".py",
      "mimetype": "text/x-python",
      "name": "python",
      "nbconvert_exporter": "python",
      "pygments_lexer": "ipython3",
      "version": "3.12.4"
    }
  },
  "nbformat": 4,
  "nbformat_minor": 0
}
