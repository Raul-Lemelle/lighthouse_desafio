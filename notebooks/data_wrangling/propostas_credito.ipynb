{
  "cells": [
    {
      "cell_type": "markdown",
      "metadata": {
        "id": "3fF3ex-y95qe"
      },
      "source": [
        "# Load database"
      ]
    },
    {
      "cell_type": "code",
      "execution_count": 6,
      "metadata": {
        "id": "M9iJFLxX07sX"
      },
      "outputs": [],
      "source": [
        "from datetime import datetime\n",
        "import pandas as pd\n",
        "import numpy as np\n",
        "import matplotlib.pyplot as plt\n",
        "\n",
        "import os\n",
        "from dotenv import load_dotenv"
      ]
    },
    {
      "cell_type": "code",
      "execution_count": 7,
      "metadata": {},
      "outputs": [],
      "source": [
        "# Carregar variáveis de ambiente do arquivo .env\n",
        "load_dotenv()\n",
        "\n",
        "# Obter caminhos do arquivo csv e do diretório de extração das variáveis de ambiente\n",
        "propostas_credito_path = os.getenv('PROPOSTAS_CREDITO_CSV')"
      ]
    },
    {
      "cell_type": "code",
      "execution_count": 8,
      "metadata": {
        "colab": {
          "base_uri": "https://localhost:8080/",
          "height": 278
        },
        "id": "uG1pzS0I2Z3z",
        "outputId": "15cf4f7e-ca1c-40f4-f168-e20ecd15994e"
      },
      "outputs": [],
      "source": [
        "# Carregar o CSV em um DataFrame Pandas\n",
        "df_propostas_credito = pd.read_csv(propostas_credito_path)"
      ]
    },
    {
      "cell_type": "markdown",
      "metadata": {},
      "source": [
        "**Wrangling**"
      ]
    },
    {
      "cell_type": "markdown",
      "metadata": {},
      "source": [
        "Vamos realizar a manipulação dos dados para o dashboard, priorizando a obtenção de uma granularidade consistente e aprimoramento da qualidade da base de dados."
      ]
    },
    {
      "cell_type": "code",
      "execution_count": 9,
      "metadata": {},
      "outputs": [
        {
          "data": {
            "text/html": [
              "<div>\n",
              "<style scoped>\n",
              "    .dataframe tbody tr th:only-of-type {\n",
              "        vertical-align: middle;\n",
              "    }\n",
              "\n",
              "    .dataframe tbody tr th {\n",
              "        vertical-align: top;\n",
              "    }\n",
              "\n",
              "    .dataframe thead th {\n",
              "        text-align: right;\n",
              "    }\n",
              "</style>\n",
              "<table border=\"1\" class=\"dataframe\">\n",
              "  <thead>\n",
              "    <tr style=\"text-align: right;\">\n",
              "      <th></th>\n",
              "      <th>cod_proposta</th>\n",
              "      <th>cod_cliente</th>\n",
              "      <th>cod_colaborador</th>\n",
              "      <th>data_entrada_proposta</th>\n",
              "      <th>taxa_juros_mensal</th>\n",
              "      <th>valor_proposta</th>\n",
              "      <th>valor_financiamento</th>\n",
              "      <th>valor_entrada</th>\n",
              "      <th>valor_prestacao</th>\n",
              "      <th>quantidade_parcelas</th>\n",
              "      <th>carencia</th>\n",
              "      <th>status_proposta</th>\n",
              "    </tr>\n",
              "  </thead>\n",
              "  <tbody>\n",
              "    <tr>\n",
              "      <th>0</th>\n",
              "      <td>116</td>\n",
              "      <td>338</td>\n",
              "      <td>1</td>\n",
              "      <td>2014-05-30 18:43:12 UTC</td>\n",
              "      <td>0.0194</td>\n",
              "      <td>36199.950355</td>\n",
              "      <td>50032.03</td>\n",
              "      <td>13832.079645</td>\n",
              "      <td>1045.219825</td>\n",
              "      <td>58</td>\n",
              "      <td>0</td>\n",
              "      <td>Enviada</td>\n",
              "    </tr>\n",
              "    <tr>\n",
              "      <th>1</th>\n",
              "      <td>715</td>\n",
              "      <td>45</td>\n",
              "      <td>1</td>\n",
              "      <td>2021-06-17 13:09:32 UTC</td>\n",
              "      <td>0.0131</td>\n",
              "      <td>12897.538285</td>\n",
              "      <td>19848.55</td>\n",
              "      <td>6951.011715</td>\n",
              "      <td>232.124685</td>\n",
              "      <td>100</td>\n",
              "      <td>1</td>\n",
              "      <td>Enviada</td>\n",
              "    </tr>\n",
              "    <tr>\n",
              "      <th>2</th>\n",
              "      <td>755</td>\n",
              "      <td>494</td>\n",
              "      <td>1</td>\n",
              "      <td>2021-08-10 04:24:02 UTC</td>\n",
              "      <td>0.0203</td>\n",
              "      <td>122236.312551</td>\n",
              "      <td>187154.36</td>\n",
              "      <td>64918.047449</td>\n",
              "      <td>3673.518951</td>\n",
              "      <td>56</td>\n",
              "      <td>0</td>\n",
              "      <td>Enviada</td>\n",
              "    </tr>\n",
              "    <tr>\n",
              "      <th>3</th>\n",
              "      <td>953</td>\n",
              "      <td>381</td>\n",
              "      <td>1</td>\n",
              "      <td>2011-02-23 07:57:58 UTC</td>\n",
              "      <td>0.0167</td>\n",
              "      <td>47784.649757</td>\n",
              "      <td>59530.61</td>\n",
              "      <td>11745.960243</td>\n",
              "      <td>955.041560</td>\n",
              "      <td>109</td>\n",
              "      <td>3</td>\n",
              "      <td>Enviada</td>\n",
              "    </tr>\n",
              "    <tr>\n",
              "      <th>4</th>\n",
              "      <td>1046</td>\n",
              "      <td>176</td>\n",
              "      <td>1</td>\n",
              "      <td>2010-11-15 16:03:28 UTC</td>\n",
              "      <td>0.0211</td>\n",
              "      <td>178393.038243</td>\n",
              "      <td>214294.19</td>\n",
              "      <td>35901.151757</td>\n",
              "      <td>10219.659415</td>\n",
              "      <td>22</td>\n",
              "      <td>4</td>\n",
              "      <td>Enviada</td>\n",
              "    </tr>\n",
              "  </tbody>\n",
              "</table>\n",
              "</div>"
            ],
            "text/plain": [
              "   cod_proposta  cod_cliente  cod_colaborador    data_entrada_proposta  \\\n",
              "0           116          338                1  2014-05-30 18:43:12 UTC   \n",
              "1           715           45                1  2021-06-17 13:09:32 UTC   \n",
              "2           755          494                1  2021-08-10 04:24:02 UTC   \n",
              "3           953          381                1  2011-02-23 07:57:58 UTC   \n",
              "4          1046          176                1  2010-11-15 16:03:28 UTC   \n",
              "\n",
              "   taxa_juros_mensal  valor_proposta  valor_financiamento  valor_entrada  \\\n",
              "0             0.0194    36199.950355             50032.03   13832.079645   \n",
              "1             0.0131    12897.538285             19848.55    6951.011715   \n",
              "2             0.0203   122236.312551            187154.36   64918.047449   \n",
              "3             0.0167    47784.649757             59530.61   11745.960243   \n",
              "4             0.0211   178393.038243            214294.19   35901.151757   \n",
              "\n",
              "   valor_prestacao  quantidade_parcelas  carencia status_proposta  \n",
              "0      1045.219825                   58         0         Enviada  \n",
              "1       232.124685                  100         1         Enviada  \n",
              "2      3673.518951                   56         0         Enviada  \n",
              "3       955.041560                  109         3         Enviada  \n",
              "4     10219.659415                   22         4         Enviada  "
            ]
          },
          "execution_count": 9,
          "metadata": {},
          "output_type": "execute_result"
        }
      ],
      "source": [
        "df_propostas_credito.head()"
      ]
    },
    {
      "cell_type": "code",
      "execution_count": 10,
      "metadata": {},
      "outputs": [
        {
          "name": "stdout",
          "output_type": "stream",
          "text": [
            "<class 'pandas.core.frame.DataFrame'>\n",
            "RangeIndex: 2000 entries, 0 to 1999\n",
            "Data columns (total 12 columns):\n",
            " #   Column                 Non-Null Count  Dtype  \n",
            "---  ------                 --------------  -----  \n",
            " 0   cod_proposta           2000 non-null   int64  \n",
            " 1   cod_cliente            2000 non-null   int64  \n",
            " 2   cod_colaborador        2000 non-null   int64  \n",
            " 3   data_entrada_proposta  2000 non-null   object \n",
            " 4   taxa_juros_mensal      2000 non-null   float64\n",
            " 5   valor_proposta         2000 non-null   float64\n",
            " 6   valor_financiamento    2000 non-null   float64\n",
            " 7   valor_entrada          2000 non-null   float64\n",
            " 8   valor_prestacao        2000 non-null   float64\n",
            " 9   quantidade_parcelas    2000 non-null   int64  \n",
            " 10  carencia               2000 non-null   int64  \n",
            " 11  status_proposta        2000 non-null   object \n",
            "dtypes: float64(5), int64(5), object(2)\n",
            "memory usage: 187.6+ KB\n"
          ]
        }
      ],
      "source": [
        "df_propostas_credito.info()"
      ]
    },
    {
      "cell_type": "markdown",
      "metadata": {},
      "source": [
        "Vamos fazer um type casting da coluna data_entrada_proposta para o formato de 'datetime64[ns]'"
      ]
    },
    {
      "cell_type": "markdown",
      "metadata": {},
      "source": [
        "A coluna data_entrada_proposta está formatada com o sufixo \"UTC\". Para lidar com isso, usaremos a função pd.to_datetime() do pandas, que oferece mais flexibilidade para o parsing de strings de data."
      ]
    },
    {
      "cell_type": "code",
      "execution_count": 11,
      "metadata": {},
      "outputs": [],
      "source": [
        "# Converter corretamente as strings de data com o sufixo \"UTC\" para objetos datetime do pandas\n",
        "df_propostas_credito['data_entrada_proposta'] = pd.to_datetime(df_propostas_credito['data_entrada_proposta'], utc=True)\n",
        "\n",
        "# remover a informação de fuso horário, convertendo as datas para o formato local naive datetime\n",
        "df_propostas_credito['data_entrada_proposta'] = df_propostas_credito['data_entrada_proposta'].dt.tz_localize(None)"
      ]
    },
    {
      "cell_type": "code",
      "execution_count": 12,
      "metadata": {},
      "outputs": [],
      "source": [
        "df_propostas_credito['data_entrada_proposta'] = df_propostas_credito['data_entrada_proposta'].astype('datetime64[ns]')"
      ]
    },
    {
      "cell_type": "markdown",
      "metadata": {},
      "source": [
        "Enriquecimento dos dados com novas colunas.\n",
        "\n",
        "Chaves temporais:"
      ]
    },
    {
      "cell_type": "code",
      "execution_count": 14,
      "metadata": {},
      "outputs": [],
      "source": [
        "df_propostas_credito['data_entrada_proposta_month'] = df_propostas_credito['data_entrada_proposta'].apply(lambda date: date.strftime('%Y-%m'))\n",
        "df_propostas_credito['data_entrada_proposta_year']  = df_propostas_credito['data_entrada_proposta'].apply(lambda date: date.strftime('%Y'))"
      ]
    },
    {
      "cell_type": "markdown",
      "metadata": {},
      "source": [
        "Com os dados manipulados, procederemos à sua persistência em disco, realizaremos o download e, posteriormente, o carregaremos no Google Data Studio."
      ]
    },
    {
      "cell_type": "code",
      "execution_count": 15,
      "metadata": {},
      "outputs": [],
      "source": [
        "# Obter caminhos do diretório gold das variáveis de ambiente\n",
        "gold_path = os.getenv('GOLD_PATH')"
      ]
    },
    {
      "cell_type": "code",
      "execution_count": 16,
      "metadata": {},
      "outputs": [],
      "source": [
        "df_propostas_credito.to_csv(f'{gold_path}/propostas_credito.csv', sep=',', index=False)"
      ]
    }
  ],
  "metadata": {
    "colab": {
      "provenance": []
    },
    "kernelspec": {
      "display_name": "Python 3",
      "name": "python3"
    },
    "language_info": {
      "codemirror_mode": {
        "name": "ipython",
        "version": 3
      },
      "file_extension": ".py",
      "mimetype": "text/x-python",
      "name": "python",
      "nbconvert_exporter": "python",
      "pygments_lexer": "ipython3",
      "version": "3.12.4"
    }
  },
  "nbformat": 4,
  "nbformat_minor": 0
}
