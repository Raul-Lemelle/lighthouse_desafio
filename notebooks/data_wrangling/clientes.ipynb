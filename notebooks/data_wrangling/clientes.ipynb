{
  "cells": [
    {
      "cell_type": "markdown",
      "metadata": {
        "id": "3fF3ex-y95qe"
      },
      "source": [
        "# Load database"
      ]
    },
    {
      "cell_type": "code",
      "execution_count": 13,
      "metadata": {
        "id": "M9iJFLxX07sX"
      },
      "outputs": [],
      "source": [
        "from datetime import datetime\n",
        "import pandas as pd\n",
        "import numpy as np\n",
        "import matplotlib.pyplot as plt\n",
        "\n",
        "import os\n",
        "from dotenv import load_dotenv"
      ]
    },
    {
      "cell_type": "code",
      "execution_count": 14,
      "metadata": {},
      "outputs": [],
      "source": [
        "# Carregar variáveis de ambiente do arquivo .env\n",
        "load_dotenv()\n",
        "\n",
        "# Obter caminhos do arquivo csv e do diretório de extração das variáveis de ambiente\n",
        "clientes_path = os.getenv('CLIENTES_CSV')"
      ]
    },
    {
      "cell_type": "code",
      "execution_count": 15,
      "metadata": {
        "colab": {
          "base_uri": "https://localhost:8080/",
          "height": 519
        },
        "id": "uG1pzS0I2Z3z",
        "outputId": "e1ccbb35-943c-481c-a538-0e9fb6b8a176"
      },
      "outputs": [],
      "source": [
        "# Carregar o CSV em um DataFrame Pandas\n",
        "df_clientes = pd.read_csv(clientes_path)\n"
      ]
    },
    {
      "cell_type": "markdown",
      "metadata": {},
      "source": [
        "**Wrangling**"
      ]
    },
    {
      "cell_type": "markdown",
      "metadata": {},
      "source": [
        "Vamos realizar a manipulação dos dados para o dashboard, priorizando a obtenção de uma granularidade consistente e aprimoramento da qualidade da base de dados."
      ]
    },
    {
      "cell_type": "code",
      "execution_count": 16,
      "metadata": {},
      "outputs": [
        {
          "data": {
            "text/html": [
              "<div>\n",
              "<style scoped>\n",
              "    .dataframe tbody tr th:only-of-type {\n",
              "        vertical-align: middle;\n",
              "    }\n",
              "\n",
              "    .dataframe tbody tr th {\n",
              "        vertical-align: top;\n",
              "    }\n",
              "\n",
              "    .dataframe thead th {\n",
              "        text-align: right;\n",
              "    }\n",
              "</style>\n",
              "<table border=\"1\" class=\"dataframe\">\n",
              "  <thead>\n",
              "    <tr style=\"text-align: right;\">\n",
              "      <th></th>\n",
              "      <th>cod_cliente</th>\n",
              "      <th>primeiro_nome</th>\n",
              "      <th>ultimo_nome</th>\n",
              "      <th>email</th>\n",
              "      <th>tipo_cliente</th>\n",
              "      <th>data_inclusao</th>\n",
              "      <th>cpfcnpj</th>\n",
              "      <th>data_nascimento</th>\n",
              "      <th>endereco</th>\n",
              "      <th>cep</th>\n",
              "    </tr>\n",
              "  </thead>\n",
              "  <tbody>\n",
              "    <tr>\n",
              "      <th>0</th>\n",
              "      <td>28</td>\n",
              "      <td>Sabrina</td>\n",
              "      <td>Dias</td>\n",
              "      <td>moreiraemanuelly@example.org</td>\n",
              "      <td>PF</td>\n",
              "      <td>2017-04-03 16:11:00 UTC</td>\n",
              "      <td>357.081.496-39</td>\n",
              "      <td>2006-08-11</td>\n",
              "      <td>Praia de Duarte Vila Piratininga 81327-166 Fer...</td>\n",
              "      <td>95140-704</td>\n",
              "    </tr>\n",
              "    <tr>\n",
              "      <th>1</th>\n",
              "      <td>674</td>\n",
              "      <td>Luiz Felipe</td>\n",
              "      <td>Dias</td>\n",
              "      <td>pedroferreira@example.org</td>\n",
              "      <td>PF</td>\n",
              "      <td>2021-02-10 13:27:00 UTC</td>\n",
              "      <td>085.196.374-93</td>\n",
              "      <td>1995-10-11</td>\n",
              "      <td>Avenida da Rosa, 654 João Paulo Ii 20295449 Nu...</td>\n",
              "      <td>76516-765</td>\n",
              "    </tr>\n",
              "    <tr>\n",
              "      <th>2</th>\n",
              "      <td>693</td>\n",
              "      <td>Renan</td>\n",
              "      <td>Dias</td>\n",
              "      <td>ogomes@example.net</td>\n",
              "      <td>PF</td>\n",
              "      <td>2020-01-21 13:12:00 UTC</td>\n",
              "      <td>783.416.059-10</td>\n",
              "      <td>1948-11-19</td>\n",
              "      <td>Jardim de Rodrigues Ipiranga 14161-477 Duarte ...</td>\n",
              "      <td>51779625</td>\n",
              "    </tr>\n",
              "    <tr>\n",
              "      <th>3</th>\n",
              "      <td>743</td>\n",
              "      <td>Clara</td>\n",
              "      <td>Dias</td>\n",
              "      <td>rafaelcorreia@example.org</td>\n",
              "      <td>PF</td>\n",
              "      <td>2019-05-06 11:39:00 UTC</td>\n",
              "      <td>589.237.610-95</td>\n",
              "      <td>1978-01-27</td>\n",
              "      <td>Colônia Thomas Silva, 9 Tupi B 15771-946 Ferna...</td>\n",
              "      <td>19615792</td>\n",
              "    </tr>\n",
              "    <tr>\n",
              "      <th>4</th>\n",
              "      <td>769</td>\n",
              "      <td>André</td>\n",
              "      <td>Dias</td>\n",
              "      <td>danilo33@example.org</td>\n",
              "      <td>PF</td>\n",
              "      <td>2017-01-07 14:53:00 UTC</td>\n",
              "      <td>459.608.721-02</td>\n",
              "      <td>1990-08-25</td>\n",
              "      <td>Rua Correia, 889 Diamante 59123250 Aragão / RS</td>\n",
              "      <td>01672838</td>\n",
              "    </tr>\n",
              "  </tbody>\n",
              "</table>\n",
              "</div>"
            ],
            "text/plain": [
              "   cod_cliente primeiro_nome ultimo_nome                         email  \\\n",
              "0           28       Sabrina        Dias  moreiraemanuelly@example.org   \n",
              "1          674   Luiz Felipe        Dias     pedroferreira@example.org   \n",
              "2          693         Renan        Dias            ogomes@example.net   \n",
              "3          743         Clara        Dias     rafaelcorreia@example.org   \n",
              "4          769         André        Dias          danilo33@example.org   \n",
              "\n",
              "  tipo_cliente            data_inclusao         cpfcnpj data_nascimento  \\\n",
              "0           PF  2017-04-03 16:11:00 UTC  357.081.496-39      2006-08-11   \n",
              "1           PF  2021-02-10 13:27:00 UTC  085.196.374-93      1995-10-11   \n",
              "2           PF  2020-01-21 13:12:00 UTC  783.416.059-10      1948-11-19   \n",
              "3           PF  2019-05-06 11:39:00 UTC  589.237.610-95      1978-01-27   \n",
              "4           PF  2017-01-07 14:53:00 UTC  459.608.721-02      1990-08-25   \n",
              "\n",
              "                                            endereco        cep  \n",
              "0  Praia de Duarte Vila Piratininga 81327-166 Fer...  95140-704  \n",
              "1  Avenida da Rosa, 654 João Paulo Ii 20295449 Nu...  76516-765  \n",
              "2  Jardim de Rodrigues Ipiranga 14161-477 Duarte ...   51779625  \n",
              "3  Colônia Thomas Silva, 9 Tupi B 15771-946 Ferna...   19615792  \n",
              "4     Rua Correia, 889 Diamante 59123250 Aragão / RS   01672838  "
            ]
          },
          "execution_count": 16,
          "metadata": {},
          "output_type": "execute_result"
        }
      ],
      "source": [
        "df_clientes.head()"
      ]
    },
    {
      "cell_type": "code",
      "execution_count": 17,
      "metadata": {
        "colab": {
          "base_uri": "https://localhost:8080/"
        },
        "id": "mR4sODjp4KhL",
        "outputId": "cb45cd68-5c47-44be-ff20-d59dc934c4c9"
      },
      "outputs": [
        {
          "name": "stdout",
          "output_type": "stream",
          "text": [
            "<class 'pandas.core.frame.DataFrame'>\n",
            "RangeIndex: 998 entries, 0 to 997\n",
            "Data columns (total 10 columns):\n",
            " #   Column           Non-Null Count  Dtype \n",
            "---  ------           --------------  ----- \n",
            " 0   cod_cliente      998 non-null    int64 \n",
            " 1   primeiro_nome    998 non-null    object\n",
            " 2   ultimo_nome      998 non-null    object\n",
            " 3   email            998 non-null    object\n",
            " 4   tipo_cliente     998 non-null    object\n",
            " 5   data_inclusao    998 non-null    object\n",
            " 6   cpfcnpj          998 non-null    object\n",
            " 7   data_nascimento  998 non-null    object\n",
            " 8   endereco         998 non-null    object\n",
            " 9   cep              998 non-null    object\n",
            "dtypes: int64(1), object(9)\n",
            "memory usage: 78.1+ KB\n"
          ]
        }
      ],
      "source": [
        "df_clientes.info()"
      ]
    },
    {
      "cell_type": "markdown",
      "metadata": {},
      "source": [
        "Vamos fazer um type casting da coluna data_inclusao, data_nascimento para o formato de 'datetime64[ns]'"
      ]
    },
    {
      "cell_type": "markdown",
      "metadata": {},
      "source": [
        "A coluna data_inclusao está formatada com o sufixo \"UTC\". Para lidar com isso, usaremos a função pd.to_datetime() do pandas, que oferece mais flexibilidade para o parsing de strings de data."
      ]
    },
    {
      "cell_type": "code",
      "execution_count": 18,
      "metadata": {},
      "outputs": [],
      "source": [
        "# Converter corretamente as strings de data com o sufixo \"UTC\" para objetos datetime do pandas\n",
        "df_clientes['data_inclusao'] = pd.to_datetime(df_clientes['data_inclusao'], utc=True)\n",
        "\n",
        "# remover a informação de fuso horário, convertendo as datas para o formato local naive datetime\n",
        "df_clientes['data_inclusao'] = df_clientes['data_inclusao'].dt.tz_localize(None)"
      ]
    },
    {
      "cell_type": "code",
      "execution_count": 19,
      "metadata": {},
      "outputs": [],
      "source": [
        "df_clientes['data_inclusao'] = df_clientes['data_inclusao'].astype('datetime64[ns]')\n",
        "df_clientes['data_nascimento'] = df_clientes['data_nascimento'].astype('datetime64[ns]')"
      ]
    },
    {
      "cell_type": "markdown",
      "metadata": {},
      "source": [
        "Enriquecimento dos dados com novas colunas.\n",
        "\n",
        "Chaves temporais:"
      ]
    },
    {
      "cell_type": "code",
      "execution_count": 20,
      "metadata": {},
      "outputs": [],
      "source": [
        "df_clientes['data_inclusao_month'] = df_clientes['data_inclusao'].apply(lambda date: date.strftime('%Y-%m'))\n",
        "df_clientes['data_inclusao_year']  = df_clientes['data_inclusao'].apply(lambda date: date.strftime('%Y'))"
      ]
    },
    {
      "cell_type": "code",
      "execution_count": 21,
      "metadata": {},
      "outputs": [],
      "source": [
        "df_clientes['data_nascimento_month'] = df_clientes['data_nascimento'].apply(lambda date: date.strftime('%Y-%m'))\n",
        "df_clientes['data_nascimento_year']  = df_clientes['data_nascimento'].apply(lambda date: date.strftime('%Y'))"
      ]
    },
    {
      "cell_type": "markdown",
      "metadata": {},
      "source": [
        "Com os dados manipulados, procederemos à sua persistência em disco, realizaremos o download e, posteriormente, o carregaremos no Google Data Studio."
      ]
    },
    {
      "cell_type": "code",
      "execution_count": 22,
      "metadata": {},
      "outputs": [],
      "source": [
        "# Obter caminhos do diretório gold das variáveis de ambiente\n",
        "gold_path = os.getenv('GOLD_PATH')"
      ]
    },
    {
      "cell_type": "code",
      "execution_count": 23,
      "metadata": {},
      "outputs": [],
      "source": [
        "df_clientes.to_csv(f'{gold_path}/clientes.csv', sep=',', index=False)"
      ]
    }
  ],
  "metadata": {
    "colab": {
      "provenance": []
    },
    "kernelspec": {
      "display_name": "Python 3",
      "name": "python3"
    },
    "language_info": {
      "codemirror_mode": {
        "name": "ipython",
        "version": 3
      },
      "file_extension": ".py",
      "mimetype": "text/x-python",
      "name": "python",
      "nbconvert_exporter": "python",
      "pygments_lexer": "ipython3",
      "version": "3.12.4"
    }
  },
  "nbformat": 4,
  "nbformat_minor": 0
}
