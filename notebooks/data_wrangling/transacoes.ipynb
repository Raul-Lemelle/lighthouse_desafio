{
  "cells": [
    {
      "cell_type": "markdown",
      "metadata": {
        "id": "3fF3ex-y95qe"
      },
      "source": [
        "# Load database"
      ]
    },
    {
      "cell_type": "code",
      "execution_count": 1,
      "metadata": {
        "id": "M9iJFLxX07sX"
      },
      "outputs": [],
      "source": [
        "from datetime import datetime\n",
        "import pandas as pd\n",
        "import numpy as np\n",
        "import seaborn as sns\n",
        "import matplotlib.pyplot as plt\n",
        "\n",
        "import os\n",
        "from dotenv import load_dotenv"
      ]
    },
    {
      "cell_type": "code",
      "execution_count": 2,
      "metadata": {},
      "outputs": [],
      "source": [
        "# Carregar variáveis de ambiente do arquivo .env\n",
        "load_dotenv()\n",
        "\n",
        "# Obter caminhos do arquivo csv e do diretório de extração das variáveis de ambiente\n",
        "transacoes_path = os.getenv('TRANSACOES_CSV')"
      ]
    },
    {
      "cell_type": "code",
      "execution_count": 3,
      "metadata": {
        "colab": {
          "base_uri": "https://localhost:8080/",
          "height": 206
        },
        "id": "uG1pzS0I2Z3z",
        "outputId": "7d0ce76a-1db1-4a99-f642-a2286aaf06e7"
      },
      "outputs": [],
      "source": [
        "# Carregar o CSV em um DataFrame Pandas\n",
        "df_transacoes = pd.read_csv(transacoes_path)"
      ]
    },
    {
      "cell_type": "markdown",
      "metadata": {
        "id": "xQU3FAOM5TUp"
      },
      "source": [
        "**Wrangling**"
      ]
    },
    {
      "cell_type": "markdown",
      "metadata": {},
      "source": [
        "Vamos realizar a manipulação dos dados para o dashboard, priorizando a obtenção de uma granularidade consistente e aprimoramento da qualidade da base de dados."
      ]
    },
    {
      "cell_type": "code",
      "execution_count": 4,
      "metadata": {},
      "outputs": [
        {
          "data": {
            "text/html": [
              "<div>\n",
              "<style scoped>\n",
              "    .dataframe tbody tr th:only-of-type {\n",
              "        vertical-align: middle;\n",
              "    }\n",
              "\n",
              "    .dataframe tbody tr th {\n",
              "        vertical-align: top;\n",
              "    }\n",
              "\n",
              "    .dataframe thead th {\n",
              "        text-align: right;\n",
              "    }\n",
              "</style>\n",
              "<table border=\"1\" class=\"dataframe\">\n",
              "  <thead>\n",
              "    <tr style=\"text-align: right;\">\n",
              "      <th></th>\n",
              "      <th>cod_transacao</th>\n",
              "      <th>num_conta</th>\n",
              "      <th>data_transacao</th>\n",
              "      <th>nome_transacao</th>\n",
              "      <th>valor_transacao</th>\n",
              "    </tr>\n",
              "  </thead>\n",
              "  <tbody>\n",
              "    <tr>\n",
              "      <th>0</th>\n",
              "      <td>3100</td>\n",
              "      <td>256</td>\n",
              "      <td>2020-05-22 03:15:21 UTC</td>\n",
              "      <td>Saque</td>\n",
              "      <td>-130.0</td>\n",
              "    </tr>\n",
              "    <tr>\n",
              "      <th>1</th>\n",
              "      <td>28405</td>\n",
              "      <td>256</td>\n",
              "      <td>2021-06-29 11:52:38 UTC</td>\n",
              "      <td>Saque</td>\n",
              "      <td>-255.0</td>\n",
              "    </tr>\n",
              "    <tr>\n",
              "      <th>2</th>\n",
              "      <td>1776</td>\n",
              "      <td>512</td>\n",
              "      <td>2020-05-17 13:04:50 UTC</td>\n",
              "      <td>Saque</td>\n",
              "      <td>-250.0</td>\n",
              "    </tr>\n",
              "    <tr>\n",
              "      <th>3</th>\n",
              "      <td>14311</td>\n",
              "      <td>512</td>\n",
              "      <td>2020-09-06 02:55:34 UTC</td>\n",
              "      <td>Saque</td>\n",
              "      <td>-80.0</td>\n",
              "    </tr>\n",
              "    <tr>\n",
              "      <th>4</th>\n",
              "      <td>25012</td>\n",
              "      <td>512</td>\n",
              "      <td>2020-10-16 09:26:52 UTC</td>\n",
              "      <td>Saque</td>\n",
              "      <td>-475.0</td>\n",
              "    </tr>\n",
              "  </tbody>\n",
              "</table>\n",
              "</div>"
            ],
            "text/plain": [
              "   cod_transacao  num_conta           data_transacao nome_transacao  \\\n",
              "0           3100        256  2020-05-22 03:15:21 UTC          Saque   \n",
              "1          28405        256  2021-06-29 11:52:38 UTC          Saque   \n",
              "2           1776        512  2020-05-17 13:04:50 UTC          Saque   \n",
              "3          14311        512  2020-09-06 02:55:34 UTC          Saque   \n",
              "4          25012        512  2020-10-16 09:26:52 UTC          Saque   \n",
              "\n",
              "   valor_transacao  \n",
              "0           -130.0  \n",
              "1           -255.0  \n",
              "2           -250.0  \n",
              "3            -80.0  \n",
              "4           -475.0  "
            ]
          },
          "execution_count": 4,
          "metadata": {},
          "output_type": "execute_result"
        }
      ],
      "source": [
        "df_transacoes.head()"
      ]
    },
    {
      "cell_type": "code",
      "execution_count": 5,
      "metadata": {
        "colab": {
          "base_uri": "https://localhost:8080/"
        },
        "id": "mR4sODjp4KhL",
        "outputId": "ff5e3d74-4260-465e-8b1a-be1621d3f445"
      },
      "outputs": [
        {
          "name": "stdout",
          "output_type": "stream",
          "text": [
            "<class 'pandas.core.frame.DataFrame'>\n",
            "RangeIndex: 71999 entries, 0 to 71998\n",
            "Data columns (total 5 columns):\n",
            " #   Column           Non-Null Count  Dtype  \n",
            "---  ------           --------------  -----  \n",
            " 0   cod_transacao    71999 non-null  int64  \n",
            " 1   num_conta        71999 non-null  int64  \n",
            " 2   data_transacao   71999 non-null  object \n",
            " 3   nome_transacao   71999 non-null  object \n",
            " 4   valor_transacao  71999 non-null  float64\n",
            "dtypes: float64(1), int64(2), object(2)\n",
            "memory usage: 2.7+ MB\n"
          ]
        }
      ],
      "source": [
        "df_transacoes.info()"
      ]
    },
    {
      "cell_type": "markdown",
      "metadata": {},
      "source": [
        "Vamos fazer um type casting da coluna data_transacao para o formato de 'datetime64[ns]'"
      ]
    },
    {
      "cell_type": "markdown",
      "metadata": {},
      "source": [
        "A coluna data_transacao está formatada com o sufixo \"UTC\". Para lidar com isso, usaremos a função pd.to_datetime() do pandas, que oferece mais flexibilidade para o parsing de strings de data."
      ]
    },
    {
      "cell_type": "code",
      "execution_count": 6,
      "metadata": {},
      "outputs": [
        {
          "name": "stdout",
          "output_type": "stream",
          "text": [
            "0              2020-05-22 03:15:21+00:00\n",
            "1              2021-06-29 11:52:38+00:00\n",
            "2              2020-05-17 13:04:50+00:00\n",
            "3              2020-09-06 02:55:34+00:00\n",
            "4              2020-10-16 09:26:52+00:00\n",
            "                      ...               \n",
            "71994   2022-12-29 23:59:59.746608+00:00\n",
            "71995   2022-12-29 23:59:59.055028+00:00\n",
            "71996          2012-05-07 13:45:41+00:00\n",
            "71997          2015-09-19 05:13:07+00:00\n",
            "71998   2022-12-29 23:59:59.607373+00:00\n",
            "Name: data_transacao, Length: 71999, dtype: datetime64[ns, UTC]\n"
          ]
        }
      ],
      "source": [
        "# Função para corrigir e converter datas\n",
        "def corrigir_e_converter(data):\n",
        "    try:\n",
        "        return pd.to_datetime(data, errors='coerce')\n",
        "    except ValueError:\n",
        "        return pd.NaT\n",
        "\n",
        "# Aplicar a função para corrigir e converter a coluna 'data_transacao'\n",
        "df_transacoes['data_transacao'] = df_transacoes['data_transacao'].apply(corrigir_e_converter)\n",
        "\n",
        "# Verificar a conversão\n",
        "print(df_transacoes['data_transacao'])\n",
        "\n"
      ]
    },
    {
      "cell_type": "code",
      "execution_count": 7,
      "metadata": {},
      "outputs": [
        {
          "name": "stdout",
          "output_type": "stream",
          "text": [
            "False\n"
          ]
        }
      ],
      "source": [
        "print(df_transacoes['data_transacao'].isna().any())"
      ]
    },
    {
      "cell_type": "code",
      "execution_count": 8,
      "metadata": {},
      "outputs": [
        {
          "name": "stdout",
          "output_type": "stream",
          "text": [
            "      transacao_date   transacao_time\n",
            "0         2020-05-22         03:15:21\n",
            "1         2021-06-29         11:52:38\n",
            "2         2020-05-17         13:04:50\n",
            "3         2020-09-06         02:55:34\n",
            "4         2020-10-16         09:26:52\n",
            "...              ...              ...\n",
            "71994     2022-12-29  23:59:59.746608\n",
            "71995     2022-12-29  23:59:59.055028\n",
            "71996     2012-05-07         13:45:41\n",
            "71997     2015-09-19         05:13:07\n",
            "71998     2022-12-29  23:59:59.607373\n",
            "\n",
            "[71999 rows x 2 columns]\n"
          ]
        }
      ],
      "source": [
        "# Criar a coluna para a data\n",
        "df_transacoes['transacao_date'] = df_transacoes['data_transacao'].dt.date\n",
        "\n",
        "# Criar a coluna para a hora\n",
        "df_transacoes['transacao_time'] = df_transacoes['data_transacao'].dt.time\n",
        "\n",
        "# Verificar os resultados\n",
        "print(df_transacoes[['transacao_date', 'transacao_time']])\n"
      ]
    },
    {
      "cell_type": "markdown",
      "metadata": {},
      "source": [
        "Enriquecimento dos dados com novas colunas.\n",
        "\n",
        "Chaves temporais:"
      ]
    },
    {
      "cell_type": "code",
      "execution_count": 9,
      "metadata": {},
      "outputs": [],
      "source": [
        "df_transacoes['transacao_date_month'] = df_transacoes['transacao_date'].apply(lambda date: date.strftime('%Y-%m'))\n",
        "df_transacoes['transacao_date_year']  = df_transacoes['transacao_date'].apply(lambda date: date.strftime('%Y'))"
      ]
    },
    {
      "cell_type": "markdown",
      "metadata": {},
      "source": [
        "Com os dados manipulados, procederemos à sua persistência em disco, realizaremos o download e, posteriormente, o carregaremos no Google Data Studio."
      ]
    },
    {
      "cell_type": "code",
      "execution_count": 10,
      "metadata": {},
      "outputs": [],
      "source": [
        "# Obter caminhos do diretório gold das variáveis de ambiente\n",
        "gold_path = os.getenv('GOLD_PATH')"
      ]
    },
    {
      "cell_type": "code",
      "execution_count": 11,
      "metadata": {},
      "outputs": [],
      "source": [
        "df_transacoes.to_csv(f'{gold_path}/transacoes.csv', sep=',', index=False)"
      ]
    }
  ],
  "metadata": {
    "colab": {
      "provenance": []
    },
    "kernelspec": {
      "display_name": "Python 3",
      "name": "python3"
    },
    "language_info": {
      "codemirror_mode": {
        "name": "ipython",
        "version": 3
      },
      "file_extension": ".py",
      "mimetype": "text/x-python",
      "name": "python",
      "nbconvert_exporter": "python",
      "pygments_lexer": "ipython3",
      "version": "3.12.4"
    }
  },
  "nbformat": 4,
  "nbformat_minor": 0
}
