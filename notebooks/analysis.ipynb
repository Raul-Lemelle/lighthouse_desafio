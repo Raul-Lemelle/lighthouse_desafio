{
 "cells": [
  {
   "cell_type": "markdown",
   "metadata": {},
   "source": [
    "# Respondendo perguntas de negócios."
   ]
  },
  {
   "cell_type": "markdown",
   "metadata": {},
   "source": [
    "1) Qual dia da semana tem, em média, maior volume de transações e qual tem, também em média,  maior valor movimentado?\n",
    "\n",
    "2) O BanVic tem, em média, os maiores valores movimentados no início ou final de mês? (Considere início do mês como sendo os primeiro 15 dias e o final do mês sendo os últimos 15 dias de cada mês)."
   ]
  },
  {
   "cell_type": "code",
   "execution_count": 3,
   "metadata": {},
   "outputs": [],
   "source": [
    "import os\n",
    "import pandas as pd\n",
    "\n",
    "from dotenv import load_dotenv"
   ]
  },
  {
   "cell_type": "code",
   "execution_count": 4,
   "metadata": {},
   "outputs": [],
   "source": [
    "# Carregar variáveis de ambiente do arquivo .env\n",
    "load_dotenv()\n",
    "\n",
    "# Obter caminhos do arquivo csv e do diretório de extração das variáveis de ambiente\n",
    "transacoes_path = os.getenv('TRANSACOES_CSV')"
   ]
  },
  {
   "cell_type": "code",
   "execution_count": 5,
   "metadata": {},
   "outputs": [],
   "source": [
    "# Carregar o CSV em um DataFrame Pandas\n",
    "df_transacoes = pd.read_csv(transacoes_path)"
   ]
  },
  {
   "cell_type": "code",
   "execution_count": 6,
   "metadata": {},
   "outputs": [
    {
     "name": "stdout",
     "output_type": "stream",
     "text": [
      "O dia da semana com maior volume de transações, em média, é: Thursday\n",
      "O dia da semana com maior valor movimentado, em média, é: Thursday\n",
      "O BanVic tem, em média, os maiores valores movimentados no Início do mês.\n",
      "Média de volume de transações por dia da semana: 8299.57142857143\n",
      "Média de valor de transações por dia da semana: 3417917.935714286\n",
      "Média de valor movimentado no início do mês: 440.9489658027656\n",
      "Média de valor movimentado no final do mês: 391.0893035382848\n"
     ]
    }
   ],
   "source": [
    "# Converter a coluna 'data_transacao' para datetime\n",
    "df_transacoes['data_transacao'] = pd.to_datetime(df_transacoes['data_transacao'], format='%Y-%m-%d %H:%M:%S %Z', errors='coerce')\n",
    "\n",
    "# Remover linhas com datas inválidas\n",
    "df_transacoes = df_transacoes.dropna(subset=['data_transacao'])\n",
    "\n",
    "# Extrair o dia da semana e a parte do mês\n",
    "df_transacoes['dia_semana'] = df_transacoes['data_transacao'].dt.day_name()\n",
    "df_transacoes['parte_mes'] = df_transacoes['data_transacao'].dt.day.apply(lambda x: 'Início' if x <= 15 else 'Final')\n",
    "\n",
    "# 1. Qual dia da semana tem, em média, maior volume de transações e maior valor movimentado?\n",
    "volume_transacoes_por_dia = df_transacoes.groupby('dia_semana')['cod_transacao'].count()\n",
    "valor_transacoes_por_dia = df_transacoes.groupby('dia_semana')['valor_transacao'].sum()\n",
    "\n",
    "# Calcular a média de volume e valor\n",
    "media_volume_por_dia = volume_transacoes_por_dia.mean()\n",
    "media_valor_por_dia = valor_transacoes_por_dia.mean()\n",
    "\n",
    "# Encontrar o dia da semana com maior volume e valor movimentado\n",
    "dia_maior_volume = volume_transacoes_por_dia.idxmax()\n",
    "dia_maior_valor = valor_transacoes_por_dia.idxmax()\n",
    "\n",
    "print(f'O dia da semana com maior volume de transações, em média, é: {dia_maior_volume}')\n",
    "print(f'O dia da semana com maior valor movimentado, em média, é: {dia_maior_valor}')\n",
    "\n",
    "# 2. O BanVic tem, em média, os maiores valores movimentados no início ou final de mês?\n",
    "valor_transacoes_por_parte_mes = df_transacoes.groupby('parte_mes')['valor_transacao'].sum()\n",
    "\n",
    "# Calcular a média de valores movimentados\n",
    "media_valor_inicio_mes = valor_transacoes_por_parte_mes.loc['Início'] / (df_transacoes['parte_mes'] == 'Início').sum()\n",
    "media_valor_final_mes = valor_transacoes_por_parte_mes.loc['Final'] / (df_transacoes['parte_mes'] == 'Final').sum()\n",
    "\n",
    "if media_valor_inicio_mes > media_valor_final_mes:\n",
    "    maior_valor_periodo = 'Início'\n",
    "else:\n",
    "    maior_valor_periodo = 'Final'\n",
    "\n",
    "print(f'O BanVic tem, em média, os maiores valores movimentados no {maior_valor_periodo} do mês.')\n",
    "\n",
    "# Resultados com prints:\n",
    "print(f'Média de volume de transações por dia da semana: {media_volume_por_dia}')\n",
    "print(f'Média de valor de transações por dia da semana: {media_valor_por_dia}')\n",
    "print(f'Média de valor movimentado no início do mês: {media_valor_inicio_mes}')\n",
    "print(f'Média de valor movimentado no final do mês: {media_valor_final_mes}')\n"
   ]
  },
  {
   "cell_type": "markdown",
   "metadata": {},
   "source": [
    "# Criação da Dimensão de Datas"
   ]
  },
  {
   "cell_type": "code",
   "execution_count": 7,
   "metadata": {},
   "outputs": [
    {
     "name": "stdout",
     "output_type": "stream",
     "text": [
      "        date  year  month  day  quarter  semester day_of_week  week_of_year  \\\n",
      "0 2010-01-01  2010      1    1        1         1      Friday            53   \n",
      "1 2010-01-02  2010      1    2        1         1    Saturday            53   \n",
      "2 2010-01-03  2010      1    3        1         1      Sunday            53   \n",
      "3 2010-01-04  2010      1    4        1         1      Monday             1   \n",
      "4 2010-01-05  2010      1    5        1         1     Tuesday             1   \n",
      "\n",
      "   day_of_year  is_weekend  \n",
      "0            1       False  \n",
      "1            2        True  \n",
      "2            3        True  \n",
      "3            4       False  \n",
      "4            5       False  \n"
     ]
    }
   ],
   "source": [
    "# Criar um intervalo de datas\n",
    "start_date = '2010-01-01'\n",
    "end_date = '2023-12-31'\n",
    "dates = pd.date_range(start=start_date, end=end_date)\n",
    "\n",
    "# Criar o DataFrame da dimensão de datas\n",
    "dim_dates = pd.DataFrame(dates, columns=['date'])\n",
    "\n",
    "# Adicionar colunas úteis\n",
    "dim_dates['year'] = dim_dates['date'].dt.year\n",
    "dim_dates['month'] = dim_dates['date'].dt.month\n",
    "dim_dates['day'] = dim_dates['date'].dt.day\n",
    "dim_dates['quarter'] = dim_dates['date'].dt.quarter\n",
    "dim_dates['semester'] = dim_dates['date'].dt.month.apply(lambda x: 1 if x <= 6 else 2)\n",
    "dim_dates['day_of_week'] = dim_dates['date'].dt.day_name()\n",
    "dim_dates['week_of_year'] = dim_dates['date'].dt.isocalendar().week\n",
    "dim_dates['day_of_year'] = dim_dates['date'].dt.dayofyear\n",
    "dim_dates['is_weekend'] = dim_dates['day_of_week'].isin(['Saturday', 'Sunday'])\n",
    "\n",
    "# Visualizar a dimensão de datas\n",
    "print(dim_dates.head())"
   ]
  },
  {
   "cell_type": "markdown",
   "metadata": {},
   "source": [
    "# Novas Análises"
   ]
  },
  {
   "cell_type": "markdown",
   "metadata": {},
   "source": [
    "**Sazonalidade**\n",
    "\n",
    "Essa análise pode ajudar a identificar padrões sazonais que possam influenciar a demanda por serviços bancários, permitindo ao banco preparar-se melhor para períodos de alta demanda."
   ]
  },
  {
   "cell_type": "code",
   "execution_count": 8,
   "metadata": {},
   "outputs": [
    {
     "name": "stdout",
     "output_type": "stream",
     "text": [
      "Média de volume de transações por mês: 374.81935483870967\n",
      "Média de valor de transações por mês: 154357.5841935484\n",
      "O mês com maior volume de transações é: 2022-12\n",
      "O mês com maior valor de transações é: 2022-12\n"
     ]
    },
    {
     "name": "stderr",
     "output_type": "stream",
     "text": [
      "C:\\Users\\raull\\AppData\\Local\\Temp\\ipykernel_10892\\940990071.py:2: UserWarning: Converting to PeriodArray/Index representation will drop timezone information.\n",
      "  df_transacoes['year_month'] = df_transacoes['data_transacao'].dt.to_period('M')\n"
     ]
    }
   ],
   "source": [
    "# Agrupar as transações por mês\n",
    "df_transacoes['year_month'] = df_transacoes['data_transacao'].dt.to_period('M')\n",
    "\n",
    "# Calcular volume e valor de transações por mês\n",
    "transacoes_por_mes = df_transacoes.groupby('year_month').agg({'cod_transacao': 'count', 'valor_transacao': 'sum'}).reset_index()\n",
    "transacoes_por_mes.columns = ['year_month', 'volume_transacoes', 'valor_transacoes']\n",
    "\n",
    "# Média de volume e valor por mês\n",
    "media_volume_por_mes = transacoes_por_mes['volume_transacoes'].mean()\n",
    "media_valor_por_mes = transacoes_por_mes['valor_transacoes'].mean()\n",
    "\n",
    "print(f'Média de volume de transações por mês: {media_volume_por_mes}')\n",
    "print(f'Média de valor de transações por mês: {media_valor_por_mes}')\n",
    "\n",
    "# Identificar os meses com maiores volumes e valores\n",
    "mes_maior_volume = transacoes_por_mes.loc[transacoes_por_mes['volume_transacoes'].idxmax(), 'year_month']\n",
    "mes_maior_valor = transacoes_por_mes.loc[transacoes_por_mes['valor_transacoes'].idxmax(), 'year_month']\n",
    "\n",
    "print(f'O mês com maior volume de transações é: {mes_maior_volume}')\n",
    "print(f'O mês com maior valor de transações é: {mes_maior_valor}')\n"
   ]
  },
  {
   "cell_type": "markdown",
   "metadata": {},
   "source": [
    "**Impacto do Final de Semana**"
   ]
  },
  {
   "cell_type": "markdown",
   "metadata": {},
   "source": [
    "Como o volume e valor das transações variam entre dias de semana e finais de semana?\n",
    "\n",
    "Essa análise pode ajudar a entender o comportamento dos clientes em diferentes dias da semana, o que pode ser útil para planejar campanhas de marketing e alocar recursos de atendimento."
   ]
  },
  {
   "cell_type": "code",
   "execution_count": 9,
   "metadata": {},
   "outputs": [
    {
     "name": "stdout",
     "output_type": "stream",
     "text": [
      "Média de volume de transações por tipo de dia: 29048.5\n",
      "Média de valor de transações por tipo de dia: 11962712.775\n",
      "O maior volume de transações ocorre nos: Dias de Semana\n",
      "O maior valor de transações ocorre nos: Dias de Semana\n"
     ]
    }
   ],
   "source": [
    "# Adicionar coluna indicando se é final de semana\n",
    "df_transacoes['is_weekend'] = df_transacoes['data_transacao'].dt.dayofweek >= 5\n",
    "\n",
    "# Calcular volume e valor de transações para dias de semana e finais de semana\n",
    "transacoes_por_tipo_dia = df_transacoes.groupby('is_weekend').agg({'cod_transacao': 'count', 'valor_transacao': 'sum'}).reset_index()\n",
    "transacoes_por_tipo_dia.columns = ['is_weekend', 'volume_transacoes', 'valor_transacoes']\n",
    "\n",
    "# Média de volume e valor por tipo de dia\n",
    "media_volume_por_tipo_dia = transacoes_por_tipo_dia['volume_transacoes'].mean()\n",
    "media_valor_por_tipo_dia = transacoes_por_tipo_dia['valor_transacoes'].mean()\n",
    "\n",
    "print(f'Média de volume de transações por tipo de dia: {media_volume_por_tipo_dia}')\n",
    "print(f'Média de valor de transações por tipo de dia: {media_valor_por_tipo_dia}')\n",
    "\n",
    "# Identificar se finais de semana têm maiores volumes e valores\n",
    "if transacoes_por_tipo_dia.loc[transacoes_por_tipo_dia['is_weekend'], 'volume_transacoes'].values[0] > media_volume_por_tipo_dia:\n",
    "    maior_volume_dia = 'Finais de Semana'\n",
    "else:\n",
    "    maior_volume_dia = 'Dias de Semana'\n",
    "\n",
    "if transacoes_por_tipo_dia.loc[transacoes_por_tipo_dia['is_weekend'], 'valor_transacoes'].values[0] > media_valor_por_tipo_dia:\n",
    "    maior_valor_dia = 'Finais de Semana'\n",
    "else:\n",
    "    maior_valor_dia = 'Dias de Semana'\n",
    "\n",
    "print(f'O maior volume de transações ocorre nos: {maior_volume_dia}')\n",
    "print(f'O maior valor de transações ocorre nos: {maior_valor_dia}')\n"
   ]
  }
 ],
 "metadata": {
  "kernelspec": {
   "display_name": "venv",
   "language": "python",
   "name": "python3"
  },
  "language_info": {
   "codemirror_mode": {
    "name": "ipython",
    "version": 3
   },
   "file_extension": ".py",
   "mimetype": "text/x-python",
   "name": "python",
   "nbconvert_exporter": "python",
   "pygments_lexer": "ipython3",
   "version": "3.12.4"
  }
 },
 "nbformat": 4,
 "nbformat_minor": 2
}
